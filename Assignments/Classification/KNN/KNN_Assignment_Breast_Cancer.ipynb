{
 "cells": [
  {
   "cell_type": "markdown",
   "metadata": {
    "id": "k3tccZ4TEWaX"
   },
   "source": [
    "\n",
    "### **Tasks to Perform**\n",
    "\n",
    "- **Understand the Problem and Setup**: Define objectives, install / import required libraries, and set up the environment for the task.\n",
    "\n",
    "- **Load and Inspect Data**: Load datasets, inspect their structure, and understand the data's format, columns, and types.\n",
    "\n",
    "- **Clean the Data**: Handle missing, duplicate, or inconsistent values, correct data types.\n",
    "\n",
    "- **Conduct Exploratory Data Analysis (EDA)**: Summarize data with statistical and visual tools like histograms, heatmaps, and pair plots to explore patterns and relationships.\n",
    "\n",
    "- **Train Models**: Select and train appropriate machine learning models for the task (KNN Algorithm).\n",
    "\n",
    "- **Optimize and Interpret**: Find Optimal K value and fit the model with new K value.\n",
    "\n",
    "- **Report and Document**: Notedown the observations / insights found while permforming the implementation.\n",
    "\n",
    "----\n",
    "\n",
    "### NOTE\n",
    "- The steps provided are a general guide and not mandatory; adapt them based on the given problem statement, business case, requirements and data.  \n",
    "- Focus on understanding the problem and performing only the relevant tasks to achieve the objective efficiently."
   ]
  },
  {
   "cell_type": "markdown",
   "metadata": {
    "id": "i32J-04zOmyd"
   },
   "source": [
    "## Problem Statement\n",
    "- The objective of this problem is to develop a classification model to predict whether a breast tumor is benign or malignant based on features extracted from a fine needle aspirate of a breast mass.\n",
    "\n",
    "- The model will assist medical professionals in making accurate and efficient diagnoses of breast cancer. A correct diagnosis can help determine appropriate treatment plans, potentially saving lives by identifying cancerous tumors early."
   ]
  },
  {
   "cell_type": "markdown",
   "metadata": {
    "id": "x8bOjyW9O_RM"
   },
   "source": [
    "## Features in Dataset\n",
    "The dataset contains the following features to describe each tumor:\n",
    "\n",
    "- **ID Number**: A unique identifier for each patient record.\n",
    "\n",
    "- **Clump Thickness**: Represents the thickness of the cell clumps, scored from 1 to 10, where higher scores indicate thicker clumps.\n",
    "\n",
    "- **Uniformity of Cell Size**: Measures the uniformity in the size of cells, with a score from 1 (uniform) to 10 (non-uniform), with higher scores indicating more variability.\n",
    "\n",
    "- **Uniformity of Cell Shape**: Reflects the consistency in cell shape, scored from 1 to 10, where higher scores indicate more irregular shapes.\n",
    "\n",
    "- **Marginal Adhesion**: Indicates the degree to which cells stick to each other, rated from 1 (least adhesive) to 10 (most adhesive). More adhesive cells may be associated with malignant tumors.\n",
    "\n",
    "- **Single Epithelial Cell Size**: Measures the size of individual epithelial cells, scored from 1 to 10. Larger cells may indicate abnormal cell growth.\n",
    "\n",
    "- **Bare Nuclei**: Refers to cells with bare nuclei, scored from 1 to 10. Missing values in this feature are common, as not all cells have visible nuclei.\n",
    "\n",
    "- **Bland Chromatin**: Measures the texture of chromatin in the cells, with scores ranging from 1 (fine) to 10 (coarse). Malignant cells tend to have coarser chromatin.\n",
    "\n",
    "- **Normal Nucleoli**: Scored from 1 to 10, this feature indicates the presence and size of nucleoli in the cells, with higher values indicating more prominent nucleoli, which can be a sign of malignancy.\n",
    "\n",
    "- **Mitoses**: The count of cell divisions, scored from 1 to 10, with higher values suggesting more active cell division, which is typically associated with malignant tumors.\n",
    "\n",
    "- **Class**: It is a target variable and indicates whether the tumor is benign or malignant.\n",
    "\n",
    "- The diagnostic result:\n",
    "  - 2 = benign (Non-cancerous tumor)\n",
    "  - 4 = malignant (Cancerous tumor)"
   ]
  },
  {
   "cell_type": "markdown",
   "metadata": {
    "id": "MSpbGDTbQYyQ"
   },
   "source": [
    "## Output Format :  \n",
    "- The final answer should be a dataframe predictions on the `test_data`(provided to you).\n",
    "- It should consist of two columns, (ID and Class). Here, class is your prediction.\n",
    "\n",
    "Sample Output:\n",
    "\n",
    "![image.png](data:image/png;base64,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)"
   ]
  },
  {
   "cell_type": "markdown",
   "metadata": {
    "id": "W18JGwsxRJiA"
   },
   "source": [
    "## Evaluation Metric\n",
    "You need to evaluate your submission using the `score` method.\n",
    "\n",
    "The evaluation will compare your predicted class labels with the true class labels from the test set, and will be computed as the percentage of correct predictions.\n",
    "\n",
    "## Completion Criteria\n",
    "Your submission will be marked as completed if you achieve an matched score more than 65%.\n",
    "\n",
    "This means that at least 65% of your predictions should be correct.  (where your predicted file will be compared with our true values.)"
   ]
  },
  {
   "cell_type": "markdown",
   "metadata": {
    "id": "TRfKIswTt2Sv"
   },
   "source": [
    "## Import Required Libraries"
   ]
  },
  {
   "cell_type": "code",
   "execution_count": 3,
   "metadata": {
    "id": "60bb49f2-309f-4d37-9e43-806cc8cbd0f5"
   },
   "outputs": [],
   "source": [
    "import pandas as pd\n",
    "import numpy as np"
   ]
  },
  {
   "cell_type": "markdown",
   "metadata": {
    "id": "zlLSgN17dKNG"
   },
   "source": [
    "## Load Data\n",
    "- Do not modify the given code. Execute the below code cells sequencially so get the data.1"
   ]
  },
  {
   "cell_type": "code",
   "execution_count": 4,
   "metadata": {
    "id": "RKejovZHSghO"
   },
   "outputs": [
    {
     "name": "stderr",
     "output_type": "stream",
     "text": [
      "--2025-09-17 10:28:39--  https://new-assets.ccbp.in/frontend/content/aiml/classical-ml/Breast_cancer_test_data.csv\n",
      "Resolving new-assets.ccbp.in (new-assets.ccbp.in)... 108.158.251.82, 108.158.251.116, 108.158.251.71, ...\n",
      "Connecting to new-assets.ccbp.in (new-assets.ccbp.in)|108.158.251.82|:443... connected.\n",
      "HTTP request sent, awaiting response... 200 OK\n",
      "Length: 2406 (2.3K) [text/csv]\n",
      "Saving to: 'Breast_cancer_test_data.csv'\n",
      "\n",
      "     0K ..                                                    100% 73.3M=0s\n",
      "\n",
      "2025-09-17 10:28:39 (73.3 MB/s) - 'Breast_cancer_test_data.csv' saved [2406/2406]\n",
      "\n",
      "--2025-09-17 10:28:39--  https://new-assets.ccbp.in/frontend/content/aiml/classical-ml/Breast_Cancer_Wisconsin_Dataset.csv\n",
      "Resolving new-assets.ccbp.in (new-assets.ccbp.in)... 108.158.251.82, 108.158.251.116, 108.158.251.71, ...\n",
      "Connecting to new-assets.ccbp.in (new-assets.ccbp.in)|108.158.251.82|:443... connected.\n",
      "HTTP request sent, awaiting response... 200 OK\n",
      "Length: 16607 (16K) [text/csv]\n",
      "Saving to: 'Breast_Cancer_Wisconsin_Dataset.csv'\n",
      "\n",
      "     0K .......... ......                                     100% 2.66M=0.006s\n",
      "\n",
      "2025-09-17 10:28:39 (2.66 MB/s) - 'Breast_Cancer_Wisconsin_Dataset.csv' saved [16607/16607]\n",
      "\n"
     ]
    }
   ],
   "source": [
    "# Load Data\n",
    "!wget https://new-assets.ccbp.in/frontend/content/aiml/classical-ml/Breast_cancer_test_data.csv\n",
    "!wget https://new-assets.ccbp.in/frontend/content/aiml/classical-ml/Breast_Cancer_Wisconsin_Dataset.csv"
   ]
  },
  {
   "cell_type": "code",
   "execution_count": 5,
   "metadata": {
    "id": "fDN_QpMs_wBM"
   },
   "outputs": [],
   "source": [
    "train_data = pd.read_csv('Breast_Cancer_Wisconsin_Dataset.csv')\n",
    "test_data = pd.read_csv('Breast_cancer_test_data.csv')"
   ]
  },
  {
   "cell_type": "code",
   "execution_count": 6,
   "metadata": {
    "id": "GZE4fANxd68m"
   },
   "outputs": [
    {
     "data": {
      "text/html": [
       "<div>\n",
       "<style scoped>\n",
       "    .dataframe tbody tr th:only-of-type {\n",
       "        vertical-align: middle;\n",
       "    }\n",
       "\n",
       "    .dataframe tbody tr th {\n",
       "        vertical-align: top;\n",
       "    }\n",
       "\n",
       "    .dataframe thead th {\n",
       "        text-align: right;\n",
       "    }\n",
       "</style>\n",
       "<table border=\"1\" class=\"dataframe\">\n",
       "  <thead>\n",
       "    <tr style=\"text-align: right;\">\n",
       "      <th></th>\n",
       "      <th>ID</th>\n",
       "      <th>Clump_Thickness</th>\n",
       "      <th>Cell_Size_Uniformity</th>\n",
       "      <th>Cell_Shape_Uniformity</th>\n",
       "      <th>Marginal_Adhesion</th>\n",
       "      <th>Single_Epithelial_Cell_Size</th>\n",
       "      <th>Bare_Nuclei</th>\n",
       "      <th>Bland_Chromatin</th>\n",
       "      <th>Normal_Nucleoli</th>\n",
       "      <th>Mitoses</th>\n",
       "      <th>Class</th>\n",
       "    </tr>\n",
       "  </thead>\n",
       "  <tbody>\n",
       "    <tr>\n",
       "      <th>0</th>\n",
       "      <td>1188472</td>\n",
       "      <td>1</td>\n",
       "      <td>1</td>\n",
       "      <td>1</td>\n",
       "      <td>1</td>\n",
       "      <td>1</td>\n",
       "      <td>1</td>\n",
       "      <td>3</td>\n",
       "      <td>1</td>\n",
       "      <td>1</td>\n",
       "      <td>2</td>\n",
       "    </tr>\n",
       "    <tr>\n",
       "      <th>1</th>\n",
       "      <td>1223793</td>\n",
       "      <td>6</td>\n",
       "      <td>10</td>\n",
       "      <td>7</td>\n",
       "      <td>7</td>\n",
       "      <td>6</td>\n",
       "      <td>4</td>\n",
       "      <td>8</td>\n",
       "      <td>10</td>\n",
       "      <td>2</td>\n",
       "      <td>4</td>\n",
       "    </tr>\n",
       "    <tr>\n",
       "      <th>2</th>\n",
       "      <td>1174057</td>\n",
       "      <td>4</td>\n",
       "      <td>2</td>\n",
       "      <td>1</td>\n",
       "      <td>1</td>\n",
       "      <td>2</td>\n",
       "      <td>2</td>\n",
       "      <td>3</td>\n",
       "      <td>1</td>\n",
       "      <td>1</td>\n",
       "      <td>2</td>\n",
       "    </tr>\n",
       "    <tr>\n",
       "      <th>3</th>\n",
       "      <td>706426</td>\n",
       "      <td>5</td>\n",
       "      <td>5</td>\n",
       "      <td>5</td>\n",
       "      <td>2</td>\n",
       "      <td>5</td>\n",
       "      <td>10</td>\n",
       "      <td>4</td>\n",
       "      <td>3</td>\n",
       "      <td>1</td>\n",
       "      <td>4</td>\n",
       "    </tr>\n",
       "    <tr>\n",
       "      <th>4</th>\n",
       "      <td>1131411</td>\n",
       "      <td>1</td>\n",
       "      <td>1</td>\n",
       "      <td>1</td>\n",
       "      <td>2</td>\n",
       "      <td>2</td>\n",
       "      <td>1</td>\n",
       "      <td>2</td>\n",
       "      <td>1</td>\n",
       "      <td>1</td>\n",
       "      <td>2</td>\n",
       "    </tr>\n",
       "  </tbody>\n",
       "</table>\n",
       "</div>"
      ],
      "text/plain": [
       "        ID  Clump_Thickness  Cell_Size_Uniformity  Cell_Shape_Uniformity  \\\n",
       "0  1188472                1                     1                      1   \n",
       "1  1223793                6                    10                      7   \n",
       "2  1174057                4                     2                      1   \n",
       "3   706426                5                     5                      5   \n",
       "4  1131411                1                     1                      1   \n",
       "\n",
       "   Marginal_Adhesion  Single_Epithelial_Cell_Size  Bare_Nuclei  \\\n",
       "0                  1                            1            1   \n",
       "1                  7                            6            4   \n",
       "2                  1                            2            2   \n",
       "3                  2                            5           10   \n",
       "4                  2                            2            1   \n",
       "\n",
       "   Bland_Chromatin  Normal_Nucleoli  Mitoses  Class  \n",
       "0                3                1        1      2  \n",
       "1                8               10        2      4  \n",
       "2                3                1        1      2  \n",
       "3                4                3        1      4  \n",
       "4                2                1        1      2  "
      ]
     },
     "execution_count": 6,
     "metadata": {},
     "output_type": "execute_result"
    }
   ],
   "source": [
    "train_data.head()"
   ]
  },
  {
   "cell_type": "code",
   "execution_count": 7,
   "metadata": {
    "id": "Y8-SuwtHeJdg"
   },
   "outputs": [
    {
     "data": {
      "text/html": [
       "<div>\n",
       "<style scoped>\n",
       "    .dataframe tbody tr th:only-of-type {\n",
       "        vertical-align: middle;\n",
       "    }\n",
       "\n",
       "    .dataframe tbody tr th {\n",
       "        vertical-align: top;\n",
       "    }\n",
       "\n",
       "    .dataframe thead th {\n",
       "        text-align: right;\n",
       "    }\n",
       "</style>\n",
       "<table border=\"1\" class=\"dataframe\">\n",
       "  <thead>\n",
       "    <tr style=\"text-align: right;\">\n",
       "      <th></th>\n",
       "      <th>ID</th>\n",
       "      <th>Clump_Thickness</th>\n",
       "      <th>Cell_Size_Uniformity</th>\n",
       "      <th>Cell_Shape_Uniformity</th>\n",
       "      <th>Marginal_Adhesion</th>\n",
       "      <th>Single_Epithelial_Cell_Size</th>\n",
       "      <th>Bare_Nuclei</th>\n",
       "      <th>Bland_Chromatin</th>\n",
       "      <th>Normal_Nucleoli</th>\n",
       "      <th>Mitoses</th>\n",
       "    </tr>\n",
       "  </thead>\n",
       "  <tbody>\n",
       "    <tr>\n",
       "      <th>0</th>\n",
       "      <td>76389</td>\n",
       "      <td>10</td>\n",
       "      <td>4</td>\n",
       "      <td>7</td>\n",
       "      <td>2</td>\n",
       "      <td>2</td>\n",
       "      <td>8</td>\n",
       "      <td>6</td>\n",
       "      <td>1</td>\n",
       "      <td>1</td>\n",
       "    </tr>\n",
       "    <tr>\n",
       "      <th>1</th>\n",
       "      <td>142932</td>\n",
       "      <td>7</td>\n",
       "      <td>6</td>\n",
       "      <td>10</td>\n",
       "      <td>5</td>\n",
       "      <td>3</td>\n",
       "      <td>10</td>\n",
       "      <td>9</td>\n",
       "      <td>10</td>\n",
       "      <td>2</td>\n",
       "    </tr>\n",
       "    <tr>\n",
       "      <th>2</th>\n",
       "      <td>183913</td>\n",
       "      <td>1</td>\n",
       "      <td>2</td>\n",
       "      <td>2</td>\n",
       "      <td>1</td>\n",
       "      <td>2</td>\n",
       "      <td>1</td>\n",
       "      <td>1</td>\n",
       "      <td>1</td>\n",
       "      <td>1</td>\n",
       "    </tr>\n",
       "    <tr>\n",
       "      <th>3</th>\n",
       "      <td>255644</td>\n",
       "      <td>10</td>\n",
       "      <td>5</td>\n",
       "      <td>8</td>\n",
       "      <td>10</td>\n",
       "      <td>3</td>\n",
       "      <td>10</td>\n",
       "      <td>5</td>\n",
       "      <td>1</td>\n",
       "      <td>3</td>\n",
       "    </tr>\n",
       "    <tr>\n",
       "      <th>4</th>\n",
       "      <td>263538</td>\n",
       "      <td>5</td>\n",
       "      <td>10</td>\n",
       "      <td>10</td>\n",
       "      <td>6</td>\n",
       "      <td>10</td>\n",
       "      <td>10</td>\n",
       "      <td>10</td>\n",
       "      <td>6</td>\n",
       "      <td>5</td>\n",
       "    </tr>\n",
       "  </tbody>\n",
       "</table>\n",
       "</div>"
      ],
      "text/plain": [
       "       ID  Clump_Thickness  Cell_Size_Uniformity  Cell_Shape_Uniformity  \\\n",
       "0   76389               10                     4                      7   \n",
       "1  142932                7                     6                     10   \n",
       "2  183913                1                     2                      2   \n",
       "3  255644               10                     5                      8   \n",
       "4  263538                5                    10                     10   \n",
       "\n",
       "   Marginal_Adhesion  Single_Epithelial_Cell_Size  Bare_Nuclei  \\\n",
       "0                  2                            2            8   \n",
       "1                  5                            3           10   \n",
       "2                  1                            2            1   \n",
       "3                 10                            3           10   \n",
       "4                  6                           10           10   \n",
       "\n",
       "   Bland_Chromatin  Normal_Nucleoli  Mitoses  \n",
       "0                6                1        1  \n",
       "1                9               10        2  \n",
       "2                1                1        1  \n",
       "3                5                1        3  \n",
       "4               10                6        5  "
      ]
     },
     "execution_count": 7,
     "metadata": {},
     "output_type": "execute_result"
    }
   ],
   "source": [
    "test_data.head()"
   ]
  },
  {
   "cell_type": "code",
   "execution_count": 8,
   "metadata": {},
   "outputs": [
    {
     "data": {
      "text/plain": [
       "ID                             0\n",
       "Clump_Thickness                0\n",
       "Cell_Size_Uniformity           0\n",
       "Cell_Shape_Uniformity          0\n",
       "Marginal_Adhesion              0\n",
       "Single_Epithelial_Cell_Size    0\n",
       "Bare_Nuclei                    0\n",
       "Bland_Chromatin                0\n",
       "Normal_Nucleoli                0\n",
       "Mitoses                        0\n",
       "Class                          0\n",
       "dtype: int64"
      ]
     },
     "execution_count": 8,
     "metadata": {},
     "output_type": "execute_result"
    }
   ],
   "source": [
    "train_data.isna().sum()"
   ]
  },
  {
   "cell_type": "code",
   "execution_count": 9,
   "metadata": {},
   "outputs": [
    {
     "data": {
      "text/plain": [
       "ID                             0\n",
       "Clump_Thickness                0\n",
       "Cell_Size_Uniformity           0\n",
       "Cell_Shape_Uniformity          0\n",
       "Marginal_Adhesion              0\n",
       "Single_Epithelial_Cell_Size    0\n",
       "Bare_Nuclei                    0\n",
       "Bland_Chromatin                0\n",
       "Normal_Nucleoli                0\n",
       "Mitoses                        0\n",
       "dtype: int64"
      ]
     },
     "execution_count": 9,
     "metadata": {},
     "output_type": "execute_result"
    }
   ],
   "source": [
    "test_data.isna().sum()"
   ]
  },
  {
   "cell_type": "code",
   "execution_count": 10,
   "metadata": {},
   "outputs": [
    {
     "data": {
      "text/plain": [
       "<Axes: xlabel='Cell_Size_Uniformity', ylabel='Cell_Shape_Uniformity'>"
      ]
     },
     "execution_count": 10,
     "metadata": {},
     "output_type": "execute_result"
    },
    {
     "data": {
      "image/png": "[encoded data removed]",
      "text/plain": [
       "<Figure size 640x480 with 1 Axes>"
      ]
     },
     "metadata": {},
     "output_type": "display_data"
    }
   ],
   "source": [
    "import seaborn as sns\n",
    "sns.set_style(\"darkgrid\")\n",
    "sns.scatterplot(data=train_data,x=\"Cell_Size_Uniformity\",y=\"Cell_Shape_Uniformity\",hue=\"Class\",palette=[\"red\",\"blue\"])"
   ]
  },
  {
   "cell_type": "markdown",
   "metadata": {
    "id": "CXMWtQ3mZ45m"
   },
   "source": [
    "## Implementation\n",
    "- Write the code in the below code cell. Create new code cells if required.\n",
    "- Build the KNN model on the provided `train_data` import and use the appropriate libraries required for building the model.\n",
    "- Evaluate the model on `test_data` and get the predictions\n",
    "- Create a dataframe for test_predictions as `submission_df`"
   ]
  },
  {
   "cell_type": "code",
   "execution_count": 11,
   "metadata": {},
   "outputs": [],
   "source": [
    "X=train_data.drop(columns=[\"ID\",\"Class\"])\n",
    "y=train_data[\"Class\"]"
   ]
  },
  {
   "cell_type": "code",
   "execution_count": 12,
   "metadata": {
    "id": "b3zEjIS2Z8_A"
   },
   "outputs": [],
   "source": [
    "# ADD YOUR CODE HERE\n",
    "from sklearn.neighbors import KNeighborsClassifier\n",
    "knn=KNeighborsClassifier(n_neighbors=3,metric=\"euclidean\")\n",
    "model=knn.fit(X,y)"
   ]
  },
  {
   "cell_type": "code",
   "execution_count": 13,
   "metadata": {},
   "outputs": [
    {
     "name": "stdout",
     "output_type": "stream",
     "text": [
      "[2]\n",
      "0.978494623655914\n"
     ]
    },
    {
     "name": "stderr",
     "output_type": "stream",
     "text": [
      "C:\\Users\\Asus\\anaconda3\\envs\\mlproject\\Lib\\site-packages\\sklearn\\utils\\validation.py:2749: UserWarning: X does not have valid feature names, but KNeighborsClassifier was fitted with feature names\n",
      "  warnings.warn(\n"
     ]
    }
   ],
   "source": [
    "print(model.predict([[4,2,1,1,2,2,3,1,1]]))\n",
    "print(model.score(X,y))"
   ]
  },
  {
   "cell_type": "markdown",
   "metadata": {},
   "source": [
    "We can improve the accuracy by tunning hyperparameters"
   ]
  },
  {
   "cell_type": "code",
   "execution_count": 14,
   "metadata": {},
   "outputs": [
    {
     "name": "stdout",
     "output_type": "stream",
     "text": [
      "[0.978494623655914, 0.9713261648745519, 0.978494623655914, 0.9767025089605734, 0.982078853046595, 0.9731182795698925, 0.9802867383512545, 0.9731182795698925, 0.9767025089605734, 0.9695340501792115, 0.9767025089605734, 0.9713261648745519, 0.974910394265233, 0.9731182795698925, 0.9731182795698925, 0.9713261648745519, 0.9713261648745519, 0.9713261648745519, 0.9713261648745519, 0.967741935483871, 0.9695340501792115, 0.9659498207885304, 0.9659498207885304, 0.96415770609319, 0.9659498207885304, 0.96415770609319, 0.96415770609319]\n"
     ]
    }
   ],
   "source": [
    "scores=[]\n",
    "for k in range(3,30):\n",
    "    knn=KNeighborsClassifier(n_neighbors=k,metric=\"euclidean\")\n",
    "    model=knn.fit(X,y)\n",
    "    scores.append(model.score(X,y))\n",
    "print(scores)"
   ]
  },
  {
   "cell_type": "code",
   "execution_count": 15,
   "metadata": {},
   "outputs": [
    {
     "data": {
      "image/png": "[encoded data removed]",
      "text/plain": [
       "<Figure size 900x1000 with 1 Axes>"
      ]
     },
     "metadata": {},
     "output_type": "display_data"
    }
   ],
   "source": [
    "import matplotlib.pyplot as plt\n",
    "plt.figure(figsize=(9,10))\n",
    "sns.lineplot(x=range(3,30),y=scores,marker=\"o\")\n",
    "for i,score in zip(range(3,30),scores):\n",
    "    plt.text(i,score+0.0001,str(i),fontsize=8)\n",
    "plt.xlabel(\"k value\")\n",
    "plt.ylabel(\"accuracy\")\n",
    "plt.show()"
   ]
  },
  {
   "cell_type": "markdown",
   "metadata": {},
   "source": [
    "Clearly we can see that the value of k=7 has the highest accuracy among them"
   ]
  },
  {
   "cell_type": "code",
   "execution_count": 16,
   "metadata": {},
   "outputs": [
    {
     "data": {
      "text/plain": [
       "0.982078853046595"
      ]
     },
     "execution_count": 16,
     "metadata": {},
     "output_type": "execute_result"
    }
   ],
   "source": [
    "from sklearn.neighbors import KNeighborsClassifier\n",
    "knn=KNeighborsClassifier(n_neighbors=7,metric=\"euclidean\")\n",
    "final_model=knn.fit(X,y)\n",
    "final_model.score(X,y)"
   ]
  },
  {
   "cell_type": "markdown",
   "metadata": {
    "id": "aINde-GmBiCC"
   },
   "source": [
    "## Predict on Test data"
   ]
  },
  {
   "cell_type": "code",
   "execution_count": 17,
   "metadata": {
    "id": "_xeYmDnhBkL2"
   },
   "outputs": [
    {
     "data": {
      "text/plain": [
       "array([4, 4, 2, 4, 4, 2, 4, 2, 4, 4, 4, 4, 2, 2, 2, 4, 2, 2, 4, 2, 2, 2,\n",
       "       4, 4, 2, 4, 2, 4, 4, 4, 2, 4, 2, 4, 4, 2, 4, 4, 4, 2, 2, 4, 4, 2,\n",
       "       2, 2, 2, 2, 4, 2, 4, 2, 4, 2, 4, 2, 4, 2, 2, 4, 2, 2, 2, 2, 2, 2,\n",
       "       4, 4, 2, 2, 2, 2, 2, 2, 2, 2, 4, 2, 2, 4, 2])"
      ]
     },
     "execution_count": 17,
     "metadata": {},
     "output_type": "execute_result"
    }
   ],
   "source": [
    "# Predict on the test data\n",
    "predictions=final_model.predict(test_data.drop(columns=[\"ID\"]))\n",
    "predictions"
   ]
  },
  {
   "cell_type": "code",
   "execution_count": 18,
   "metadata": {
    "id": "8-vo1HW6XWNO"
   },
   "outputs": [
    {
     "data": {
      "text/html": [
       "<div>\n",
       "<style scoped>\n",
       "    .dataframe tbody tr th:only-of-type {\n",
       "        vertical-align: middle;\n",
       "    }\n",
       "\n",
       "    .dataframe tbody tr th {\n",
       "        vertical-align: top;\n",
       "    }\n",
       "\n",
       "    .dataframe thead th {\n",
       "        text-align: right;\n",
       "    }\n",
       "</style>\n",
       "<table border=\"1\" class=\"dataframe\">\n",
       "  <thead>\n",
       "    <tr style=\"text-align: right;\">\n",
       "      <th></th>\n",
       "      <th>ID</th>\n",
       "      <th>Class</th>\n",
       "    </tr>\n",
       "  </thead>\n",
       "  <tbody>\n",
       "    <tr>\n",
       "      <th>0</th>\n",
       "      <td>76389</td>\n",
       "      <td>4</td>\n",
       "    </tr>\n",
       "    <tr>\n",
       "      <th>1</th>\n",
       "      <td>142932</td>\n",
       "      <td>4</td>\n",
       "    </tr>\n",
       "    <tr>\n",
       "      <th>2</th>\n",
       "      <td>183913</td>\n",
       "      <td>2</td>\n",
       "    </tr>\n",
       "    <tr>\n",
       "      <th>3</th>\n",
       "      <td>255644</td>\n",
       "      <td>4</td>\n",
       "    </tr>\n",
       "    <tr>\n",
       "      <th>4</th>\n",
       "      <td>263538</td>\n",
       "      <td>4</td>\n",
       "    </tr>\n",
       "    <tr>\n",
       "      <th>...</th>\n",
       "      <td>...</td>\n",
       "      <td>...</td>\n",
       "    </tr>\n",
       "    <tr>\n",
       "      <th>76</th>\n",
       "      <td>1318169</td>\n",
       "      <td>4</td>\n",
       "    </tr>\n",
       "    <tr>\n",
       "      <th>77</th>\n",
       "      <td>1324681</td>\n",
       "      <td>2</td>\n",
       "    </tr>\n",
       "    <tr>\n",
       "      <th>78</th>\n",
       "      <td>1368273</td>\n",
       "      <td>2</td>\n",
       "    </tr>\n",
       "    <tr>\n",
       "      <th>79</th>\n",
       "      <td>1369821</td>\n",
       "      <td>4</td>\n",
       "    </tr>\n",
       "    <tr>\n",
       "      <th>80</th>\n",
       "      <td>1371920</td>\n",
       "      <td>2</td>\n",
       "    </tr>\n",
       "  </tbody>\n",
       "</table>\n",
       "<p>81 rows × 2 columns</p>\n",
       "</div>"
      ],
      "text/plain": [
       "         ID  Class\n",
       "0     76389      4\n",
       "1    142932      4\n",
       "2    183913      2\n",
       "3    255644      4\n",
       "4    263538      4\n",
       "..      ...    ...\n",
       "76  1318169      4\n",
       "77  1324681      2\n",
       "78  1368273      2\n",
       "79  1369821      4\n",
       "80  1371920      2\n",
       "\n",
       "[81 rows x 2 columns]"
      ]
     },
     "execution_count": 18,
     "metadata": {},
     "output_type": "execute_result"
    }
   ],
   "source": [
    "# create a dataframe of test predictions (ID, Class)\n",
    "submission_df=pd.DataFrame({\"ID\":test_data[\"ID\"],\"Class\":predictions})\n",
    "submission_df"
   ]
  },
  {
   "cell_type": "markdown",
   "metadata": {
    "id": "N74QYDl9P_rE"
   },
   "source": [
    "## Your Final Submission\n",
    "### Instructions  \n",
    "\n",
    "1. **Write Your Solution in the Provided Code Cell**  \n",
    "   - Use the code cell provided below for your final solution.  \n",
    "   - **Do not delete** this code cell or create a new one.  \n",
    "\n",
    "2. **Avoid Creating New Cells**  \n",
    "   - If you delete the provided code cell and create a new one to write your code, it will not be evaluated.  \n",
    "   - In such cases, you will need to create a new copy of the notebook from the platform and re-write your code.  \n",
    "\n",
    "3. **Follow a Step-by-Step Approach**  \n",
    "   - Merge your solution step-by-step in the provided code cell:  \n",
    "     - Start by importing the required libraries.  \n",
    "     - Load the data.  \n",
    "     - Perform data pre-processing.  \n",
    "     - Split the data into training and testing sets.  \n",
    "     - Build the model.  \n",
    "     - Evaluate the model.  \n",
    "   - Ensure the steps are followed in a proper sequence for clarity and correctness."
   ]
  },
  {
   "cell_type": "code",
   "execution_count": 19,
   "metadata": {
    "id": "0lvPrMfvOPwy"
   },
   "outputs": [],
   "source": [
    "# write your final code here as per the instructions\n",
    "import pandas as pd\n",
    "from sklearn.metrics import classification_report,accuracy_score\n",
    "from sklearn.neighbors import KNeighborsClassifier\n",
    "\n",
    "# Load Data\n",
    "train_url=\"https://new-assets.ccbp.in/frontend/content/aiml/classical-ml/Breast_Cancer_Wisconsin_Dataset.csv\"\n",
    "test_url=\"https://new-assets.ccbp.in/frontend/content/aiml/classical-ml/Breast_cancer_test_data.csv\"\n",
    "\n",
    "train_data = pd.read_csv(train_url)\n",
    "test_data = pd.read_csv(test_url)\n",
    "\n",
    "X=train_data.drop(columns=[\"ID\",\"Class\"])\n",
    "y=train_data[\"Class\"]\n",
    "\n",
    "knn=KNeighborsClassifier(n_neighbors=7,metric=\"euclidean\")\n",
    "final_model=knn.fit(X,y)\n",
    "\n",
    "# Predict on the test data\n",
    "predictions=final_model.predict(test_data.drop(columns=[\"ID\"]))\n",
    "\n",
    "# create a dataframe of test predictions (ID, Class)\n",
    "submission_df=pd.DataFrame({\"ID\":test_data[\"ID\"],\"Class\":predictions})\n",
    "\n",
    "submission_df.to_csv(\"submission_df.csv\",index=False)"
   ]
  }
 ],
 "metadata": {
  "colab": {
   "collapsed_sections": [
    "TRfKIswTt2Sv",
    "CXMWtQ3mZ45m"
   ],
   "provenance": []
  },
  "kernelspec": {
   "display_name": "Python 3 (ipykernel)",
   "language": "python",
   "name": "python3"
  },
  "language_info": {
   "codemirror_mode": {
    "name": "ipython",
    "version": 3
   },
   "file_extension": ".py",
   "mimetype": "text/x-python",
   "name": "python",
   "nbconvert_exporter": "python",
   "pygments_lexer": "ipython3",
   "version": "3.13.5"
  }
 },
 "nbformat": 4,
 "nbformat_minor": 4
}
